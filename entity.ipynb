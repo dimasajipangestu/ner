{
 "cells": [
  {
   "cell_type": "markdown",
   "metadata": {},
   "source": [
    "# Named Entity Recognition - CRF"
   ]
  },
  {
   "cell_type": "markdown",
   "metadata": {},
   "source": [
    "Conditional random fields (CRFs) adalah kelas metode pemodelan statistik yang sering diterapkan dalam pengenalan pola dan machine learning dan digunakan untuk prediksi terstruktur. Sedangkan classifier memprediksi label untuk sampel tunggal tanpa mempertimbangkan sampel \"neighboring\", CRF dapat mempertimbangkan konteks. Untuk melakukannya, prediksi dimodelkan sebagai model grafis, yang mengimplementasikan dependensi antara prediksi."
   ]
  },
  {
   "cell_type": "code",
   "execution_count": 1,
   "metadata": {},
   "outputs": [],
   "source": [
    "import math\n",
    "import warnings\n",
    "\n",
    "import pyprind\n",
    "\n",
    "import pandas as pd\n",
    "import numpy as np\n",
    "\n",
    "from sklearn.model_selection import train_test_split\n",
    "from sklearn.model_selection import learning_curve\n",
    "from sklearn.model_selection import RandomizedSearchCV\n",
    "from sklearn_crfsuite import CRF\n",
    "from sklearn_crfsuite import metrics\n",
    "from sklearn.metrics import make_scorer\n",
    "from sklearn.exceptions import UndefinedMetricWarning\n",
    "\n",
    "from model_plots import plot_learning_curve"
   ]
  },
  {
   "cell_type": "markdown",
   "metadata": {},
   "source": [
    "## Load dataset menggunakan Pandas"
   ]
  },
  {
   "cell_type": "code",
   "execution_count": 2,
   "metadata": {},
   "outputs": [
    {
     "name": "stdout",
     "output_type": "stream",
     "text": [
      "       ne  counts\n",
      "0   B-LOC    7140\n",
      "1  B-MISC    3438\n",
      "2   B-ORG    6321\n",
      "3   B-PER    6600\n",
      "4   I-LOC    1157\n",
      "5  I-MISC    1155\n",
      "6   I-ORG    3704\n",
      "7   I-PER    4528\n",
      "8       O  168346\n",
      "['B-ORG', 'B-MISC', 'B-PER', 'I-PER', 'B-LOC', 'I-ORG', 'I-MISC', 'I-LOC']\n"
     ]
    }
   ],
   "source": [
    "# Read dataset dengan spasi sebagai separator ,keep blank line dan tambah columns\n",
    "ner_data_train = pd.read_csv(\"./data/conll2003/train.txt\", sep=\" \", header=None, skip_blank_lines=False, encoding=\"utf-8\")\n",
    "ner_data_test = pd.read_csv(\"./data/conll2003/test.txt\", sep=\" \", header=None, skip_blank_lines=False, encoding=\"utf-8\")\n",
    "ner_data_train.columns = [\"token\", \"pos\", \"chunk\", \"ne\"]\n",
    "ner_data_test.columns = [\"token\", \"pos\", \"chunk\", \"ne\"]\n",
    "\n",
    "# Ekstrak data NE dan mengitung jumlahnya\n",
    "tag_distribution = ner_data_train.groupby(\"ne\").size().reset_index(name='counts')\n",
    "print(tag_distribution)\n",
    "\n",
    "# Ekstrak class yg memiliki informasi, bukan O, dan menjadikannya list\n",
    "classes = list(filter(lambda x: x not in [\"O\", np.nan], list(ner_data_train[\"ne\"].unique())))\n",
    "\n",
    "print(classes)"
   ]
  },
  {
   "cell_type": "code",
   "execution_count": 6,
   "metadata": {},
   "outputs": [
    {
     "name": "stderr",
     "output_type": "stream",
     "text": [
      "0% [##############################] 100% | ETA: 00:00:00\n",
      "Total time elapsed: 00:00:43\n",
      "0% [##############################] 100% | ETA: 00:00:00\n",
      "Total time elapsed: 00:00:09\n"
     ]
    }
   ],
   "source": [
    "# Mengelompokkan setiap kalimat\n",
    "sentences_train, sentence_train = [], []\n",
    "# progress bar\n",
    "pbar_train = pyprind.ProgBar(len(ner_data_train))\n",
    "# For each row in the NER data train...\n",
    "for index, row in ner_data_train.iterrows():\n",
    "    # If the row is empty (no string in the token column)\n",
    "    if type(row[\"token\"]) != str:\n",
    "        # If the current sentence is not empty, append it to the sentences and create a new sentence\n",
    "        if len(sentence_train) > 0:\n",
    "            sentences_train.append(sentence_train)\n",
    "            sentence_train = []\n",
    "    # Otherwise...\n",
    "    else:\n",
    "        # If the row does not indicate the start of a document, add the token to the current sentence\n",
    "        if type(row[\"token\"]) != float and type(row[\"pos\"]) != float and type(row[\"ne\"]) != float:\n",
    "            if not row[\"token\"].startswith(\"-DOCSTART-\"):\n",
    "                sentence_train.append([row[\"token\"], row[\"pos\"], row[\"chunk\"], row[\"ne\"]])\n",
    "    pbar_train.update()\n",
    "\n",
    "sentences_test, sentence_test = [], []\n",
    "pbar_test = pyprind.ProgBar(len(ner_data_test))    \n",
    "# For each row in the NER data test...\n",
    "for index, row in ner_data_test.iterrows():\n",
    "    # If the row is empty (no string in the token column)\n",
    "    if type(row[\"token\"]) != str:\n",
    "        # If the current sentence is not empty, append it to the sentences and create a new sentence\n",
    "        if len(sentence_test) > 0:\n",
    "            sentences_test.append(sentence_test)\n",
    "            sentence_test = []\n",
    "    # Otherwise...\n",
    "    else:\n",
    "        # If the row does not indicate the start of a document, add the token to the current sentence\n",
    "        if type(row[\"token\"]) != float and type(row[\"pos\"]) != float and type(row[\"ne\"]) != float:\n",
    "            if not row[\"token\"].startswith(\"-DOCSTART-\"):\n",
    "                sentence_test.append([row[\"token\"], row[\"pos\"], row[\"chunk\"], row[\"ne\"]])\n",
    "    pbar_test.update()"
   ]
  },
  {
   "cell_type": "code",
   "execution_count": 7,
   "metadata": {},
   "outputs": [],
   "source": [
    "def word_features(sentence, i, use_chunks=False):\n",
    "    # Get the current word and POS\n",
    "    word = sentence[i][0]\n",
    "    pos = sentence[i][1]\n",
    "    # Create a feature dictionary, based on characteristics of the current word and POS\n",
    "    features = { \"bias\": 1.0,\n",
    "                 \"word.lower()\": word.lower(),\n",
    "                 \"word[-3:]\": word[-3:],\n",
    "                 \"word[-2:]\": word[-2:],\n",
    "                 \"word.isupper()\": word.isupper(),\n",
    "                 \"word.istitle()\": word.istitle(),\n",
    "                 \"word.isdigit()\": word.isdigit(),\n",
    "                 \"pos\": pos,\n",
    "                 \"pos[:2]\": pos[:2],\n",
    "               }\n",
    "    # If chunks are being used, add the current chunk to the feature dictionary\n",
    "    if use_chunks:\n",
    "        chunk = sentence[i][2]\n",
    "        features.update({ \"chunk\": chunk })\n",
    "    # If this is not the first word in the sentence...\n",
    "    if i > 0:\n",
    "        # Get the sentence's previous word and POS\n",
    "        prev_word = sentence[i-1][0]\n",
    "        prev_pos = sentence[i-1][1]\n",
    "        # Add characteristics of the sentence's previous word and POS to the feature dictionary\n",
    "        features.update({ \"-1:word.lower()\": prev_word.lower(),\n",
    "                          \"-1:word.istitle()\": prev_word.istitle(),\n",
    "                          \"-1:word.isupper()\": prev_word.isupper(),\n",
    "                          \"-1:pos\": prev_pos,\n",
    "                          \"-1:pos[:2]\": prev_pos[:2],\n",
    "                        })\n",
    "        # If chunks are being used, add the previous chunk to the feature dictionary\n",
    "        if use_chunks:\n",
    "            prev_chunk = sentence[i-1][2]\n",
    "            features.update({ \"-1:chunk\": prev_chunk })\n",
    "    # Otherwise, add 'BOS' (beginning of sentence) to the feature dictionary\n",
    "    else:\n",
    "        features[\"BOS\"] = True\n",
    "    # If this is not the last word in the sentence...\n",
    "    if i < len(sentence)-1:\n",
    "        # Get the sentence's next word and POS\n",
    "        next_word = sentence[i+1][0]\n",
    "        next_pos = sentence[i+1][1]\n",
    "        # Add characteristics of the sentence's previous next and POS to the feature dictionary\n",
    "        features.update({ \"+1:word.lower()\": next_word.lower(),\n",
    "                          \"+1:word.istitle()\": next_word.istitle(),\n",
    "                          \"+1:word.isupper()\": next_word.isupper(),\n",
    "                          \"+1:pos\": next_pos,\n",
    "                          \"+1:pos[:2]\": next_pos[:2],\n",
    "                        })\n",
    "        # If chunks are being used, add the next chunk to the feature dictionary\n",
    "        if use_chunks:\n",
    "            next_chunk = sentence[i+1][2]\n",
    "            features.update({ \"+1:chunk\": next_chunk })\n",
    "    # Otherwise, add 'EOS' (end of sentence) to the feature dictionary\n",
    "    else:\n",
    "        features[\"EOS\"] = True\n",
    "    # Return the feature dictionary\n",
    "    return features"
   ]
  },
  {
   "cell_type": "code",
   "execution_count": 8,
   "metadata": {},
   "outputs": [],
   "source": [
    "# Return a feature dictionary for each word in a given sentence\n",
    "def sentence_features(sentence, use_chunks=False):\n",
    "    return [word_features(sentence, i, use_chunks) for i in range(len(sentence))]\n",
    "\n",
    "# Return the label (NER tag) for each word in a given sentence\n",
    "def sentence_labels(sentence):\n",
    "    return [label for token, pos, chunk, label in sentence]"
   ]
  },
  {
   "cell_type": "markdown",
   "metadata": {},
   "source": [
    "### Memisahkan feature dan label untuk train set"
   ]
  },
  {
   "cell_type": "code",
   "execution_count": 9,
   "metadata": {},
   "outputs": [
    {
     "name": "stdout",
     "output_type": "stream",
     "text": [
      "First token features:\n",
      "---------------------\n",
      "{'bias': 1.0, 'word.lower()': 'eu', 'word[-3:]': 'EU', 'word[-2:]': 'EU', 'word.isupper()': True, 'word.istitle()': False, 'word.isdigit()': False, 'pos': 'NNP', 'pos[:2]': 'NN', 'BOS': True, '+1:word.lower()': 'rejects', '+1:word.istitle()': False, '+1:word.isupper()': False, '+1:pos': 'VBZ', '+1:pos[:2]': 'VB'}\n",
      "\n",
      "First token label:\n",
      "------------------\n",
      "B-ORG\n"
     ]
    }
   ],
   "source": [
    "# For each sentence, extract the sentence features as X, and the labels as y\n",
    "X_train = [sentence_features(sentence_train) for sentence_train in sentences_train]\n",
    "y_train = [sentence_labels(sentence_train) for sentence_train in sentences_train]\n",
    "\n",
    "# Split X and y into training (80%) and test (20%) sets\n",
    "# X_train, X_test, y_train, y_test = train_test_split(X, y, test_size=0.2, random_state=0)\n",
    "\n",
    "print(\"First token features:\\n{}\\n{}\".format(\"-\"*21, X_train[0][0]))\n",
    "print(\"\\nFirst token label:\\n{}\\n{}\".format(\"-\"*18, y_train[0][0]))"
   ]
  },
  {
   "cell_type": "markdown",
   "metadata": {},
   "source": [
    "### Memisahkan feature dan label untuk train set"
   ]
  },
  {
   "cell_type": "code",
   "execution_count": 12,
   "metadata": {},
   "outputs": [
    {
     "name": "stdout",
     "output_type": "stream",
     "text": [
      "First token features:\n",
      "---------------------\n",
      "{'bias': 1.0, 'word.lower()': 'soccer', 'word[-3:]': 'CER', 'word[-2:]': 'ER', 'word.isupper()': True, 'word.istitle()': False, 'word.isdigit()': False, 'pos': 'NN', 'pos[:2]': 'NN', 'BOS': True, '+1:word.lower()': '-', '+1:word.istitle()': False, '+1:word.isupper()': False, '+1:pos': ':', '+1:pos[:2]': ':'}\n",
      "\n",
      "First token label:\n",
      "------------------\n",
      "O\n"
     ]
    }
   ],
   "source": [
    "# For each sentence, extract the sentence features as X, and the labels as y\n",
    "X_test = [sentence_features(sentence_test) for sentence_test in sentences_test]\n",
    "y_test = [sentence_labels(sentence_test) for sentence_test in sentences_test]\n",
    "\n",
    "# Split X and y into training (80%) and test (20%) sets\n",
    "#X_train, X_test, y_train, y_test = train_test_split(X, y, test_size=0.2, random_state=0)\n",
    "\n",
    "print(\"First token features:\\n{}\\n{}\".format(\"-\"*21, X_test[0][0]))\n",
    "print(\"\\nFirst token label:\\n{}\\n{}\".format(\"-\"*18, y_test[0][0]))"
   ]
  },
  {
   "cell_type": "code",
   "execution_count": 13,
   "metadata": {},
   "outputs": [
    {
     "data": {
      "text/plain": [
       "CRF(algorithm='lbfgs', all_possible_states=None, all_possible_transitions=True,\n",
       "    averaging=None, c=None, c1=0.1, c2=0.1, calibration_candidates=None,\n",
       "    calibration_eta=None, calibration_max_trials=None, calibration_rate=None,\n",
       "    calibration_samples=None, delta=None, epsilon=None, error_sensitive=None,\n",
       "    gamma=None, keep_tempfiles=None, linesearch=None, max_iterations=100,\n",
       "    max_linesearch=None, min_freq=None, model_filename=None, num_memories=None,\n",
       "    pa_type=None, period=None, trainer_cls=None, variance=None, verbose=False)"
      ]
     },
     "execution_count": 13,
     "metadata": {},
     "output_type": "execute_result"
    }
   ],
   "source": [
    "# Create a new CRF model\n",
    "crf = CRF(algorithm=\"lbfgs\",\n",
    "          c1=0.1,\n",
    "          c2=0.1,\n",
    "          max_iterations=100,\n",
    "          all_possible_transitions=True)\n",
    "\n",
    "# Train the CRF model on the supplied training data\n",
    "crf.fit(X_train, y_train)"
   ]
  },
  {
   "cell_type": "code",
   "execution_count": 14,
   "metadata": {},
   "outputs": [
    {
     "name": "stdout",
     "output_type": "stream",
     "text": [
      "              precision    recall  f1-score   support\n",
      "\n",
      "       B-ORG       0.77      0.73      0.75      1661\n",
      "      B-MISC       0.82      0.76      0.79       702\n",
      "       B-PER       0.82      0.85      0.84      1617\n",
      "       I-PER       0.87      0.95      0.90      1156\n",
      "       B-LOC       0.85      0.81      0.83      1668\n",
      "       I-ORG       0.67      0.74      0.70       835\n",
      "      I-MISC       0.72      0.67      0.69       216\n",
      "       I-LOC       0.75      0.63      0.68       257\n",
      "\n",
      "   micro avg       0.80      0.80      0.80      8112\n",
      "   macro avg       0.78      0.77      0.77      8112\n",
      "weighted avg       0.80      0.80      0.80      8112\n",
      "\n"
     ]
    }
   ],
   "source": [
    "# Use the CRF model to make predictions on the test data\n",
    "y_pred = crf.predict(X_test)\n",
    "print(metrics.flat_classification_report(y_test, y_pred, labels=classes))"
   ]
  },
  {
   "cell_type": "code",
   "execution_count": 22,
   "metadata": {},
   "outputs": [
    {
     "name": "stdout",
     "output_type": "stream",
     "text": [
      "Fitting 3 folds for each of 50 candidates, totalling 150 fits\n"
     ]
    },
    {
     "name": "stderr",
     "output_type": "stream",
     "text": [
      "[Parallel(n_jobs=-1)]: Using backend LokyBackend with 4 concurrent workers.\n",
      "[Parallel(n_jobs=-1)]: Done  42 tasks      | elapsed: 17.1min\n",
      "[Parallel(n_jobs=-1)]: Done 150 out of 150 | elapsed: 57.6min finished\n"
     ]
    },
    {
     "name": "stdout",
     "output_type": "stream",
     "text": [
      "0.8497049768680325\n",
      "{'c2': 0.01, 'c1': 0.0001}\n"
     ]
    }
   ],
   "source": [
    "# Set up a parameter grid to experiment with different values for C1 and C2\n",
    "param_range = [0.0001, 0.001, 0.01, 0.1, 1.0, 10.0, 100.0, 1000.0]\n",
    "param_grid = {\"c1\": param_range,\n",
    "              \"c2\": param_range}\n",
    "\n",
    "# Set up a bespoke scorer that will compare the cross validated models according to their F1 scores\n",
    "f1_scorer = make_scorer(metrics.flat_f1_score, average='weighted', labels=classes)\n",
    "\n",
    "# Perform a 3-fold cross-validated, randomised search of 50 combinations for different values for C1 and C2\n",
    "rs = RandomizedSearchCV(estimator=crf,\n",
    "                        param_distributions=param_grid,\n",
    "                        scoring=f1_scorer,\n",
    "                        cv=3,\n",
    "                        verbose=1,\n",
    "                        n_iter=50,\n",
    "                        n_jobs=-1)\n",
    "\n",
    "# Train the models in the randomised search, ignoring any 'UndefinedMetricWarning' that comes up \n",
    "with warnings.catch_warnings():\n",
    "    warnings.filterwarnings(\"ignore\", category=UndefinedMetricWarning)\n",
    "    rs.fit(X_train, y_train)\n",
    "\n",
    "# Print the model that scored highest in the randomised search, and the parameters it used\n",
    "print(rs.best_score_)\n",
    "print(rs.best_params_)"
   ]
  },
  {
   "cell_type": "code",
   "execution_count": 24,
   "metadata": {},
   "outputs": [
    {
     "name": "stdout",
     "output_type": "stream",
     "text": [
      "              precision    recall  f1-score   support\n",
      "\n",
      "       B-ORG       0.78      0.73      0.75      1661\n",
      "      B-MISC       0.80      0.76      0.78       702\n",
      "       B-PER       0.85      0.85      0.85      1617\n",
      "       I-PER       0.89      0.95      0.92      1156\n",
      "       B-LOC       0.85      0.84      0.85      1668\n",
      "       I-ORG       0.67      0.75      0.70       835\n",
      "      I-MISC       0.65      0.66      0.66       216\n",
      "       I-LOC       0.74      0.65      0.69       257\n",
      "\n",
      "   micro avg       0.81      0.81      0.81      8112\n",
      "   macro avg       0.78      0.77      0.77      8112\n",
      "weighted avg       0.81      0.81      0.81      8112\n",
      "\n"
     ]
    }
   ],
   "source": [
    "# Replace the CRF model with the best model from the randomised search\n",
    "crf = rs.best_estimator_\n",
    "\n",
    "y_pred = crf.predict(X_test)\n",
    "print(metrics.flat_classification_report(y_test, y_pred, labels=classes))"
   ]
  },
  {
   "cell_type": "markdown",
   "metadata": {},
   "source": [
    "## Training baru dan data test menggunakan chunks "
   ]
  },
  {
   "cell_type": "markdown",
   "metadata": {},
   "source": [
    "### Train data "
   ]
  },
  {
   "cell_type": "code",
   "execution_count": 25,
   "metadata": {},
   "outputs": [
    {
     "name": "stdout",
     "output_type": "stream",
     "text": [
      "First token features:\n",
      "---------------------\n",
      "{'bias': 1.0, 'word.lower()': 'eu', 'word[-3:]': 'EU', 'word[-2:]': 'EU', 'word.isupper()': True, 'word.istitle()': False, 'word.isdigit()': False, 'pos': 'NNP', 'pos[:2]': 'NN', 'chunk': 'B-NP', 'BOS': True, '+1:word.lower()': 'rejects', '+1:word.istitle()': False, '+1:word.isupper()': False, '+1:pos': 'VBZ', '+1:pos[:2]': 'VB', '+1:chunk': 'B-VP'}\n",
      "\n",
      "First token label:\n",
      "------------------\n",
      "B-ORG\n"
     ]
    }
   ],
   "source": [
    "# For each sentence, extract the sentence features as X, and the labels as y\n",
    "X_train = [sentence_features(sentence_train, use_chunks=True) for sentence_train in sentences_train]\n",
    "y_train = [sentence_labels(sentence_train) for sentence_train in sentences_train]\n",
    "\n",
    "\n",
    "print(\"First token features:\\n{}\\n{}\".format(\"-\"*21, X_train[0][0]))\n",
    "print(\"\\nFirst token label:\\n{}\\n{}\".format(\"-\"*18, y_train[0][0]))"
   ]
  },
  {
   "cell_type": "markdown",
   "metadata": {},
   "source": [
    "### Test data "
   ]
  },
  {
   "cell_type": "code",
   "execution_count": 26,
   "metadata": {},
   "outputs": [
    {
     "name": "stdout",
     "output_type": "stream",
     "text": [
      "First token features:\n",
      "---------------------\n",
      "{'bias': 1.0, 'word.lower()': 'soccer', 'word[-3:]': 'CER', 'word[-2:]': 'ER', 'word.isupper()': True, 'word.istitle()': False, 'word.isdigit()': False, 'pos': 'NN', 'pos[:2]': 'NN', 'chunk': 'B-NP', 'BOS': True, '+1:word.lower()': '-', '+1:word.istitle()': False, '+1:word.isupper()': False, '+1:pos': ':', '+1:pos[:2]': ':', '+1:chunk': 'O'}\n",
      "\n",
      "First token label:\n",
      "------------------\n",
      "O\n"
     ]
    }
   ],
   "source": [
    "# For each sentence, extract the sentence features as X, and the labels as y\n",
    "X_test = [sentence_features(sentence_test, use_chunks=True) for sentence_test in sentences_test]\n",
    "y_test = [sentence_labels(sentence_test) for sentence_test in sentences_test]\n",
    "\n",
    "\n",
    "print(\"First token features:\\n{}\\n{}\".format(\"-\"*21, X_test[0][0]))\n",
    "print(\"\\nFirst token label:\\n{}\\n{}\".format(\"-\"*18, y_test[0][0]))"
   ]
  },
  {
   "cell_type": "markdown",
   "metadata": {},
   "source": [
    "## Training dengan dataset chunk"
   ]
  },
  {
   "cell_type": "code",
   "execution_count": 27,
   "metadata": {},
   "outputs": [
    {
     "name": "stdout",
     "output_type": "stream",
     "text": [
      "              precision    recall  f1-score   support\n",
      "\n",
      "       B-ORG       0.77      0.72      0.75      1661\n",
      "      B-MISC       0.80      0.76      0.78       702\n",
      "       B-PER       0.85      0.85      0.85      1617\n",
      "       I-PER       0.89      0.95      0.92      1156\n",
      "       B-LOC       0.85      0.83      0.84      1668\n",
      "       I-ORG       0.66      0.74      0.70       835\n",
      "      I-MISC       0.65      0.65      0.65       216\n",
      "       I-LOC       0.73      0.62      0.67       257\n",
      "\n",
      "   micro avg       0.81      0.80      0.80      8112\n",
      "   macro avg       0.77      0.77      0.77      8112\n",
      "weighted avg       0.81      0.80      0.80      8112\n",
      "\n"
     ]
    }
   ],
   "source": [
    "# Retrain the CRF model on the new training data\n",
    "crf.fit(X_train, y_train)\n",
    "\n",
    "# Use the CRF model to make predictions on the test data\n",
    "y_pred = crf.predict(X_test)\n",
    "print(metrics.flat_classification_report(y_test, y_pred, labels=classes))"
   ]
  },
  {
   "cell_type": "markdown",
   "metadata": {},
   "source": [
    "# plot learning curve optimised model chunk dataset"
   ]
  },
  {
   "cell_type": "code",
   "execution_count": 28,
   "metadata": {},
   "outputs": [
    {
     "name": "stdout",
     "output_type": "stream",
     "text": [
      "[learning_curve] Training set sizes: [ 936 1872 2808 3744 4680 5616 6552 7488 8424 9361]\n"
     ]
    },
    {
     "name": "stderr",
     "output_type": "stream",
     "text": [
      "[Parallel(n_jobs=-1)]: Using backend LokyBackend with 4 concurrent workers.\n",
      "[Parallel(n_jobs=-1)]: Done  30 out of  30 | elapsed: 14.6min finished\n"
     ]
    },
    {
     "data": {
      "image/png": "[encoded data removed]",
      "text/plain": [
       "<Figure size 432x288 with 1 Axes>"
      ]
     },
     "metadata": {
      "needs_background": "light"
     },
     "output_type": "display_data"
    }
   ],
   "source": [
    "# Produce the necessary data for a learning curve\n",
    "train_sizes, train_scores, test_scores = learning_curve(estimator=crf,\n",
    "                                                        X=X_train,\n",
    "                                                        y=y_train,\n",
    "                                                        train_sizes=np.linspace(0.1, 1.0, 10),\n",
    "                                                        cv=3,\n",
    "                                                        verbose=1,\n",
    "                                                        n_jobs=-1)\n",
    "\n",
    "# Find the means and standard deviations of the training and test datasets across the learning curve\n",
    "train_mean = np.mean(train_scores, axis=1)\n",
    "train_std = np.std(train_scores, axis=1)\n",
    "test_mean = np.mean(test_scores, axis=1)\n",
    "test_std = np.std(test_scores, axis=1)\n",
    "\n",
    "# Plot the learning curve\n",
    "plot_learning_curve(train_sizes, train_mean, train_std, test_mean, test_std)"
   ]
  },
  {
   "cell_type": "code",
   "execution_count": null,
   "metadata": {},
   "outputs": [],
   "source": []
  }
 ],
 "metadata": {
  "kernelspec": {
   "display_name": "Python 3",
   "language": "python",
   "name": "python3"
  },
  "language_info": {
   "codemirror_mode": {
    "name": "ipython",
    "version": 3
   },
   "file_extension": ".py",
   "mimetype": "text/x-python",
   "name": "python",
   "nbconvert_exporter": "python",
   "pygments_lexer": "ipython3",
   "version": "3.6.9"
  }
 },
 "nbformat": 4,
 "nbformat_minor": 2
}
